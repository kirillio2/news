{
 "cells": [
  {
   "cell_type": "code",
   "execution_count": 1,
   "id": "e96c756d",
   "metadata": {},
   "outputs": [],
   "source": [
    "from django.db import models\n",
    "from posts.models import Category"
   ]
  },
  {
   "cell_type": "code",
   "execution_count": 2,
   "id": "57e1ecef",
   "metadata": {},
   "outputs": [],
   "source": [
    "\"\"\"\n",
    "fruit = Fruit.objects.create(name=\"Apple\")\n",
    ">>> fruit.name = \"Pear\"\n",
    ">>> fruit.save()\n",
    ">>> Fruit.objects.values_list(\"name\", flat=True)\n",
    "\"\"\"\n",
    "\n",
    "post_test_name = Category.objects.create(name='Ok')\n",
    "post_test_name.name = 'super'\n",
    "post_test_name.save()"
   ]
  },
  {
   "cell_type": "code",
   "execution_count": 3,
   "id": "7b76033b",
   "metadata": {},
   "outputs": [
    {
     "data": {
      "text/plain": [
       "<QuerySet ['Спорт', 'Политика', 'Экономика', 'Культура', 'Технологии', 'super']>"
      ]
     },
     "execution_count": 3,
     "metadata": {},
     "output_type": "execute_result"
    }
   ],
   "source": [
    "Category.objects.values_list('name', flat=True)"
   ]
  },
  {
   "cell_type": "code",
   "execution_count": 4,
   "id": "8dfd53fa",
   "metadata": {},
   "outputs": [
    {
     "data": {
      "text/plain": [
       "(1, {'posts.Category': 1})"
      ]
     },
     "execution_count": 4,
     "metadata": {},
     "output_type": "execute_result"
    }
   ],
   "source": [
    "Category.objects.filter(name=\"super\").delete()"
   ]
  },
  {
   "cell_type": "code",
   "execution_count": 5,
   "id": "5badc898",
   "metadata": {},
   "outputs": [
    {
     "data": {
      "text/plain": [
       "<QuerySet ['Спорт', 'Политика', 'Экономика', 'Культура', 'Технологии']>"
      ]
     },
     "execution_count": 5,
     "metadata": {},
     "output_type": "execute_result"
    }
   ],
   "source": [
    "Category.objects.values_list('name', flat=True)\n"
   ]
  },
  {
   "cell_type": "code",
   "execution_count": null,
   "id": "d03f7efa",
   "metadata": {},
   "outputs": [],
   "source": []
  }
 ],
 "metadata": {
  "kernelspec": {
   "display_name": "Django Shell-Plus",
   "language": "python",
   "name": "django_extensions"
  },
  "language_info": {
   "codemirror_mode": {
    "name": "ipython",
    "version": 3
   },
   "file_extension": ".py",
   "mimetype": "text/x-python",
   "name": "python",
   "nbconvert_exporter": "python",
   "pygments_lexer": "ipython3",
   "version": "3.10.6"
  }
 },
 "nbformat": 4,
 "nbformat_minor": 5
}
